{
 "cells": [
  {
   "cell_type": "code",
   "execution_count": 25,
   "id": "1f678d77-38fd-4539-8ee6-e2448665881e",
   "metadata": {},
   "outputs": [
    {
     "name": "stdout",
     "output_type": "stream",
     "text": [
      "Skipping column: floor (not of string data type)\n",
      "Skipping column: id (not of string data type)\n",
      "Skipping column: latitude (not of string data type)\n",
      "Skipping column: longitude (not of string data type)\n",
      "Skipping column: price (not of string data type)\n",
      "Skipping column: rooms (not of string data type)\n",
      "Skipping column: sq (not of string data type)\n",
      "Skipping column: year (not of string data type)\n"
     ]
    },
    {
     "name": "stderr",
     "output_type": "stream",
     "text": [
      "Geocoding Progress: 100%|██████████████████████████████████████████████████████████████| 10/10 [00:04<00:00,  2.16it/s]"
     ]
    },
    {
     "name": "stdout",
     "output_type": "stream",
     "text": [
      "Total records: 10\n",
      "Processed records: 10\n"
     ]
    },
    {
     "name": "stderr",
     "output_type": "stream",
     "text": [
      "\n"
     ]
    },
    {
     "data": {
      "text/html": [
       "<div>\n",
       "<style scoped>\n",
       "    .dataframe tbody tr th:only-of-type {\n",
       "        vertical-align: middle;\n",
       "    }\n",
       "\n",
       "    .dataframe tbody tr th {\n",
       "        vertical-align: top;\n",
       "    }\n",
       "\n",
       "    .dataframe thead th {\n",
       "        text-align: right;\n",
       "    }\n",
       "</style>\n",
       "<table border=\"1\" class=\"dataframe\">\n",
       "  <thead>\n",
       "    <tr style=\"text-align: right;\">\n",
       "      <th></th>\n",
       "      <th>address</th>\n",
       "      <th>city</th>\n",
       "      <th>floor</th>\n",
       "      <th>latitude</th>\n",
       "      <th>longitude</th>\n",
       "      <th>price</th>\n",
       "      <th>rooms</th>\n",
       "      <th>sq</th>\n",
       "      <th>year</th>\n",
       "    </tr>\n",
       "  </thead>\n",
       "  <tbody>\n",
       "    <tr>\n",
       "      <th>0</th>\n",
       "      <td>Podgrze Zabocie Stanisawa Klimeckiego</td>\n",
       "      <td>Krakw</td>\n",
       "      <td>2.0</td>\n",
       "      <td>50.049224</td>\n",
       "      <td>19.970379</td>\n",
       "      <td>749000.0</td>\n",
       "      <td>3.0</td>\n",
       "      <td>74.05</td>\n",
       "      <td>2021.0</td>\n",
       "    </tr>\n",
       "    <tr>\n",
       "      <th>1</th>\n",
       "      <td>Praga-Poudnie Grochowska</td>\n",
       "      <td>Warszawa</td>\n",
       "      <td>3.0</td>\n",
       "      <td>52.249775</td>\n",
       "      <td>21.106886</td>\n",
       "      <td>240548.0</td>\n",
       "      <td>1.0</td>\n",
       "      <td>24.38</td>\n",
       "      <td>2021.0</td>\n",
       "    </tr>\n",
       "    <tr>\n",
       "      <th>2</th>\n",
       "      <td>Krowodrza Czarnowiejska</td>\n",
       "      <td>Krakw</td>\n",
       "      <td>2.0</td>\n",
       "      <td>50.066964</td>\n",
       "      <td>19.920025</td>\n",
       "      <td>427000.0</td>\n",
       "      <td>2.0</td>\n",
       "      <td>37.00</td>\n",
       "      <td>1970.0</td>\n",
       "    </tr>\n",
       "    <tr>\n",
       "      <th>3</th>\n",
       "      <td>Grunwald</td>\n",
       "      <td>Pozna</td>\n",
       "      <td>2.0</td>\n",
       "      <td>52.404212</td>\n",
       "      <td>16.882542</td>\n",
       "      <td>1290000.0</td>\n",
       "      <td>5.0</td>\n",
       "      <td>166.00</td>\n",
       "      <td>1935.0</td>\n",
       "    </tr>\n",
       "    <tr>\n",
       "      <th>4</th>\n",
       "      <td>Ochota Gotowy budynek. Stan deweloperski. Osta...</td>\n",
       "      <td>Warszawa</td>\n",
       "      <td>1.0</td>\n",
       "      <td>52.212225</td>\n",
       "      <td>20.97263</td>\n",
       "      <td>996000.0</td>\n",
       "      <td>5.0</td>\n",
       "      <td>105.00</td>\n",
       "      <td>2020.0</td>\n",
       "    </tr>\n",
       "  </tbody>\n",
       "</table>\n",
       "</div>"
      ],
      "text/plain": [
       "                                             address      city  floor  \\\n",
       "0              Podgrze Zabocie Stanisawa Klimeckiego     Krakw    2.0   \n",
       "1                           Praga-Poudnie Grochowska  Warszawa    3.0   \n",
       "2                            Krowodrza Czarnowiejska     Krakw    2.0   \n",
       "3                                           Grunwald     Pozna    2.0   \n",
       "4  Ochota Gotowy budynek. Stan deweloperski. Osta...  Warszawa    1.0   \n",
       "\n",
       "    latitude  longitude      price  rooms      sq    year  \n",
       "0  50.049224  19.970379   749000.0    3.0   74.05  2021.0  \n",
       "1  52.249775  21.106886   240548.0    1.0   24.38  2021.0  \n",
       "2  50.066964  19.920025   427000.0    2.0   37.00  1970.0  \n",
       "3  52.404212  16.882542  1290000.0    5.0  166.00  1935.0  \n",
       "4  52.212225   20.97263   996000.0    5.0  105.00  2020.0  "
      ]
     },
     "execution_count": 25,
     "metadata": {},
     "output_type": "execute_result"
    }
   ],
   "source": [
    "import pandas as pd\n",
    "from geopy.geocoders import Nominatim\n",
    "from geopy.exc import GeocoderServiceError\n",
    "from tqdm import tqdm\n",
    "\n",
    "housing = pd.read_csv('datasets/mieszkania_poland/Houses.csv', encoding='latin-1', index_col=0)\n",
    "\n",
    "columns = housing.columns\n",
    "for column in columns:\n",
    "    if housing[column].dtype == object:\n",
    "        try:\n",
    "            housing[column] = housing[column].str.encode('latin-1').str.decode('utf-8', errors='ignore')\n",
    "        except UnicodeDecodeError:\n",
    "            print(f\"Error decoding column: {column}\")\n",
    "    else:\n",
    "        print(f\"Skipping column: {column} (not of string data type)\")\n",
    "\n",
    "housing = housing[housing['sq'] < 500]\n",
    "housing = housing[housing['price'] < 3000000]\n",
    "housing = housing[housing['year'] <= 2023]\n",
    "housing = housing[housing['year'] >= 1500]\n",
    "housing = housing.drop('id',axis=1)\n",
    "\n",
    "geolocator = Nominatim(user_agent=\"my_app\")\n",
    "rest_housing = pd.read_csv('datasets/mieszkania_poland/data.csv', encoding='utf-8', index_col=0)\n",
    "\n",
    "rest_housing.loc[:, 'latitude'] = None\n",
    "rest_housing.loc[:, 'longitude'] = None\n",
    "\n",
    "total_records = len(rest_housing)\n",
    "processed_records = 0\n",
    "\n",
    "for index, row in tqdm(rest_housing.iterrows(), total=total_records, desc='Geocoding Progress'):\n",
    "    city = row['city']\n",
    "    address = row['address']\n",
    "\n",
    "    location = f'{address}, {city}'\n",
    "\n",
    "    try:\n",
    "        location_data = geolocator.geocode(location)\n",
    "        if location_data is not None:\n",
    "            latitude = location_data.latitude\n",
    "            longitude = location_data.longitude\n",
    "            rest_housing.loc[index, 'latitude'] = latitude\n",
    "            rest_housing.loc[index, 'longitude'] = longitude\n",
    "        else:\n",
    "            continue\n",
    "    except GeocoderServiceError as e:\n",
    "        print(f\"Geocoding service error: {str(e)}\")\n",
    "        continue\n",
    "\n",
    "    processed_records += 1\n",
    "\n",
    "print(f\"Total records: {total_records}\")\n",
    "print(f\"Processed records: {processed_records}\")\n",
    "\n",
    "housing = pd.concat([housing, rest_housing], ignore_index=True)\n",
    "housing.to_csv('datasets/mieszkania_poland/merged_dataset.csv')\n",
    "housing.head()"
   ]
  },
  {
   "cell_type": "code",
   "execution_count": 26,
   "id": "b57e21d4-2e01-45c0-b268-8f930118c02d",
   "metadata": {},
   "outputs": [
    {
     "name": "stdout",
     "output_type": "stream",
     "text": [
      "<class 'pandas.core.frame.DataFrame'>\n",
      "RangeIndex: 23583 entries, 0 to 23582\n",
      "Data columns (total 9 columns):\n",
      " #   Column     Non-Null Count  Dtype  \n",
      "---  ------     --------------  -----  \n",
      " 0   address    23583 non-null  object \n",
      " 1   city       23583 non-null  object \n",
      " 2   floor      23583 non-null  float64\n",
      " 3   latitude   23583 non-null  object \n",
      " 4   longitude  23583 non-null  object \n",
      " 5   price      23583 non-null  float64\n",
      " 6   rooms      23583 non-null  float64\n",
      " 7   sq         23583 non-null  float64\n",
      " 8   year       23583 non-null  float64\n",
      "dtypes: float64(5), object(4)\n",
      "memory usage: 1.6+ MB\n"
     ]
    }
   ],
   "source": [
    "housing.info()"
   ]
  },
  {
   "cell_type": "code",
   "execution_count": 29,
   "id": "eea7b236-27a5-4541-8577-78ecaa41d079",
   "metadata": {},
   "outputs": [
    {
     "data": {
      "text/plain": [
       "city\n",
       "Krakw        9733\n",
       "Warszawa     9695\n",
       "Pozna        4145\n",
       "Białystok      10\n",
       "Name: count, dtype: int64"
      ]
     },
     "execution_count": 29,
     "metadata": {},
     "output_type": "execute_result"
    }
   ],
   "source": [
    "housing['city'].value_counts()"
   ]
  },
  {
   "cell_type": "code",
   "execution_count": 28,
   "id": "5fe014da-a740-4e57-85e2-5349a4fab737",
   "metadata": {},
   "outputs": [
    {
     "data": {
      "text/html": [
       "<div>\n",
       "<style scoped>\n",
       "    .dataframe tbody tr th:only-of-type {\n",
       "        vertical-align: middle;\n",
       "    }\n",
       "\n",
       "    .dataframe tbody tr th {\n",
       "        vertical-align: top;\n",
       "    }\n",
       "\n",
       "    .dataframe thead th {\n",
       "        text-align: right;\n",
       "    }\n",
       "</style>\n",
       "<table border=\"1\" class=\"dataframe\">\n",
       "  <thead>\n",
       "    <tr style=\"text-align: right;\">\n",
       "      <th></th>\n",
       "      <th>floor</th>\n",
       "      <th>price</th>\n",
       "      <th>rooms</th>\n",
       "      <th>sq</th>\n",
       "      <th>year</th>\n",
       "    </tr>\n",
       "  </thead>\n",
       "  <tbody>\n",
       "    <tr>\n",
       "      <th>count</th>\n",
       "      <td>23583.0</td>\n",
       "      <td>23583.0</td>\n",
       "      <td>23583.0</td>\n",
       "      <td>23583.0</td>\n",
       "      <td>23583.0</td>\n",
       "    </tr>\n",
       "    <tr>\n",
       "      <th>mean</th>\n",
       "      <td>3.0</td>\n",
       "      <td>618324.0</td>\n",
       "      <td>3.0</td>\n",
       "      <td>60.0</td>\n",
       "      <td>2001.0</td>\n",
       "    </tr>\n",
       "    <tr>\n",
       "      <th>std</th>\n",
       "      <td>2.0</td>\n",
       "      <td>356800.0</td>\n",
       "      <td>1.0</td>\n",
       "      <td>71.0</td>\n",
       "      <td>30.0</td>\n",
       "    </tr>\n",
       "    <tr>\n",
       "      <th>min</th>\n",
       "      <td>0.0</td>\n",
       "      <td>5000.0</td>\n",
       "      <td>1.0</td>\n",
       "      <td>9.0</td>\n",
       "      <td>1535.0</td>\n",
       "    </tr>\n",
       "    <tr>\n",
       "      <th>25%</th>\n",
       "      <td>1.0</td>\n",
       "      <td>410062.0</td>\n",
       "      <td>2.0</td>\n",
       "      <td>42.0</td>\n",
       "      <td>1985.0</td>\n",
       "    </tr>\n",
       "    <tr>\n",
       "      <th>50%</th>\n",
       "      <td>2.0</td>\n",
       "      <td>520000.0</td>\n",
       "      <td>3.0</td>\n",
       "      <td>54.0</td>\n",
       "      <td>2019.0</td>\n",
       "    </tr>\n",
       "    <tr>\n",
       "      <th>75%</th>\n",
       "      <td>4.0</td>\n",
       "      <td>697215.0</td>\n",
       "      <td>3.0</td>\n",
       "      <td>68.0</td>\n",
       "      <td>2021.0</td>\n",
       "    </tr>\n",
       "    <tr>\n",
       "      <th>max</th>\n",
       "      <td>10.0</td>\n",
       "      <td>2995333.0</td>\n",
       "      <td>10.0</td>\n",
       "      <td>7133.0</td>\n",
       "      <td>2023.0</td>\n",
       "    </tr>\n",
       "  </tbody>\n",
       "</table>\n",
       "</div>"
      ],
      "text/plain": [
       "         floor      price    rooms       sq     year\n",
       "count  23583.0    23583.0  23583.0  23583.0  23583.0\n",
       "mean       3.0   618324.0      3.0     60.0   2001.0\n",
       "std        2.0   356800.0      1.0     71.0     30.0\n",
       "min        0.0     5000.0      1.0      9.0   1535.0\n",
       "25%        1.0   410062.0      2.0     42.0   1985.0\n",
       "50%        2.0   520000.0      3.0     54.0   2019.0\n",
       "75%        4.0   697215.0      3.0     68.0   2021.0\n",
       "max       10.0  2995333.0     10.0   7133.0   2023.0"
      ]
     },
     "execution_count": 28,
     "metadata": {},
     "output_type": "execute_result"
    }
   ],
   "source": [
    "summary = housing.describe()\n",
    "summary.round(0)"
   ]
  },
  {
   "cell_type": "code",
   "execution_count": null,
   "id": "b96d7a5e-6139-46e1-beeb-acae9174a70a",
   "metadata": {},
   "outputs": [],
   "source": [
    "housing_max_price = housing['price'].idxmax()"
   ]
  },
  {
   "cell_type": "code",
   "execution_count": null,
   "id": "7e6358e9-7e1c-463a-bab1-cb2d9dc9f0ce",
   "metadata": {},
   "outputs": [],
   "source": [
    "address_with_max_price = housing.loc[housing_max_price, 'address']"
   ]
  },
  {
   "cell_type": "code",
   "execution_count": null,
   "id": "25d08f25-dd85-4fe5-8cfe-20465b09f4ec",
   "metadata": {},
   "outputs": [],
   "source": [
    "print(address_with_max_price)"
   ]
  },
  {
   "cell_type": "code",
   "execution_count": null,
   "id": "d79a2543-e028-488c-b9d9-792d6c1a9420",
   "metadata": {},
   "outputs": [],
   "source": [
    "housing_max_sq = housing['sq'].idxmax()\n",
    "address_with_max_sq = housing.loc[housing_max_sq, 'city']\n",
    "address_with_max_sq"
   ]
  },
  {
   "cell_type": "code",
   "execution_count": null,
   "id": "e233555c-9b63-4173-9e43-983a463d3b80",
   "metadata": {},
   "outputs": [],
   "source": [
    "%matplotlib inline\n",
    "import matplotlib.pyplot as plt\n",
    "\n",
    "housing.hist(bins=50, figsize=(20, 15))\n",
    "plt.show()"
   ]
  },
  {
   "cell_type": "code",
   "execution_count": null,
   "id": "e43abfd9-5151-4d34-b923-c3ddc4369ff3",
   "metadata": {},
   "outputs": [],
   "source": [
    "from sklearn.model_selection import train_test_split\n",
    "\n",
    "train_set, test_set = train_test_split(housing, test_size=0.2, random_state=42)"
   ]
  },
  {
   "cell_type": "code",
   "execution_count": null,
   "id": "643d2a32-cdd1-4db3-8cfc-cf6adac9b95b",
   "metadata": {},
   "outputs": [],
   "source": [
    "housing.plot(kind=\"scatter\", x=\"longitude\", y=\"latitude\", alpha=0.1)"
   ]
  },
  {
   "cell_type": "code",
   "execution_count": null,
   "id": "87084805-80d2-48be-aaed-fd25fd0cbdfa",
   "metadata": {},
   "outputs": [],
   "source": [
    "from pandas.plotting import scatter_matrix\n",
    "\n",
    "attributes = ['price', 'sq', 'rooms', 'year']\n",
    "\n",
    "scatter_matrix(housing[attributes], figsize=(12, 8))"
   ]
  },
  {
   "cell_type": "code",
   "execution_count": null,
   "id": "20d28890-47dd-43a6-9709-a0cfb7f03fb3",
   "metadata": {},
   "outputs": [],
   "source": [
    "import numpy as np\n",
    "\n",
    "housing['avg_room_size'] = housing['sq'] / housing['rooms']\n",
    "\n",
    "numeric_columns = housing.select_dtypes(include=np.number)\n",
    "correlation_matrix = numeric_columns.corr()\n",
    "correlation_matrix['price'].sort_values(ascending=False)"
   ]
  },
  {
   "cell_type": "code",
   "execution_count": null,
   "id": "bb3d8392-8507-4770-b3f9-875934557311",
   "metadata": {},
   "outputs": [],
   "source": [
    "housing = train_set.copy()\n",
    "\n",
    "housing_labels = train_set['price'].copy()\n",
    "housing = train_set.drop('price', axis=1)\n",
    "housing_without = housing.drop('address', axis=1)"
   ]
  },
  {
   "cell_type": "code",
   "execution_count": null,
   "id": "ce3872ca-4d7f-4ace-8270-7db6f9b4ecfa",
   "metadata": {},
   "outputs": [],
   "source": [
    "housing_without_cat = housing_without[['city']]\n",
    "housing_without_cat.head()"
   ]
  },
  {
   "cell_type": "code",
   "execution_count": null,
   "id": "389117fa-f0d5-47c4-990b-53e344dd4f7b",
   "metadata": {},
   "outputs": [],
   "source": [
    "from sklearn.preprocessing import OneHotEncoder\n",
    "\n",
    "one_hot = OneHotEncoder()\n",
    "\n",
    "housing_without_cat_encoded = one_hot.fit_transform(housing_without_cat)\n",
    "housing_without_cat_encoded.toarray()"
   ]
  },
  {
   "cell_type": "code",
   "execution_count": null,
   "id": "b9f90504-f22a-4e3d-a1e0-4fc5007d7bf8",
   "metadata": {},
   "outputs": [],
   "source": [
    "one_hot.categories_"
   ]
  },
  {
   "cell_type": "code",
   "execution_count": null,
   "id": "ab71e752-b982-4034-80bf-3848e636b7d7",
   "metadata": {},
   "outputs": [],
   "source": [
    "from sklearn.base import BaseEstimator, TransformerMixin\n",
    "\n",
    "housing_num = housing_without.drop(\"city\", axis=1)\n",
    "sq_ix = housing_num.columns.get_loc(\"sq\")\n",
    "rooms_ix = housing_num.columns.get_loc(\"rooms\")\n",
    "\n",
    "class CombinedAttributesAdder(BaseEstimator, TransformerMixin):\n",
    "    def __init__(self, avg_m_squared = True):\n",
    "        self.avg_m_squared = avg_m_squared\n",
    "    def fit(self, X, y=None):\n",
    "        return self\n",
    "    def transform(self, X):\n",
    "        if self.avg_m_squared:\n",
    "            avg_room_size = X.iloc[:, sq_ix] / X.iloc[:, rooms_ix]\n",
    "            return np.c_[X, avg_room_size]"
   ]
  },
  {
   "cell_type": "code",
   "execution_count": null,
   "id": "95bcad1d-1888-42f7-b4ef-05614370d5b2",
   "metadata": {},
   "outputs": [],
   "source": [
    "housing_num.head()"
   ]
  },
  {
   "cell_type": "code",
   "execution_count": null,
   "id": "89f4da2e-fd4c-444d-af83-b4a7ed6ce4f3",
   "metadata": {},
   "outputs": [],
   "source": [
    "from sklearn.pipeline import Pipeline\n",
    "from sklearn.preprocessing import StandardScaler\n",
    "\n",
    "num_pipeline = Pipeline([\n",
    "    ('attribs_adder', CombinedAttributesAdder()),\n",
    "    ('std_scaler', StandardScaler())\n",
    "])\n",
    "\n",
    "housing_num_tr = num_pipeline.fit_transform(housing_num)"
   ]
  },
  {
   "cell_type": "code",
   "execution_count": null,
   "id": "6aa68cd3-0804-40a8-9283-0accd8d471ce",
   "metadata": {},
   "outputs": [],
   "source": [
    "from sklearn.compose import ColumnTransformer\n",
    "\n",
    "num_attribs = list(housing_num)\n",
    "cat_attribs = ['city']\n",
    "\n",
    "full_pipeline = ColumnTransformer([\n",
    "    ('num', num_pipeline, num_attribs),\n",
    "    ('cat', OneHotEncoder(), cat_attribs)\n",
    "])\n",
    "\n",
    "housing_prepared = full_pipeline.fit_transform(housing_without)"
   ]
  },
  {
   "cell_type": "code",
   "execution_count": null,
   "id": "44957047-b314-4bbc-bf87-774815974bdd",
   "metadata": {},
   "outputs": [],
   "source": []
  }
 ],
 "metadata": {
  "kernelspec": {
   "display_name": "Python 3 (ipykernel)",
   "language": "python",
   "name": "python3"
  },
  "language_info": {
   "codemirror_mode": {
    "name": "ipython",
    "version": 3
   },
   "file_extension": ".py",
   "mimetype": "text/x-python",
   "name": "python",
   "nbconvert_exporter": "python",
   "pygments_lexer": "ipython3",
   "version": "3.10.7"
  }
 },
 "nbformat": 4,
 "nbformat_minor": 5
}
